{
 "cells": [
  {
   "cell_type": "markdown",
   "metadata": {},
   "source": [
    "# Demonstration of ``recommendx``\n",
    "\n",
    "#### Updated: May 2020\n",
    "\n",
    "This Jupyter notebook demonstrates the basics of using the ``recommendx`` Python package for explicit users ratings data. This guide assumes that you have already installed ``recommendx``. The easiest way to install is by using ``pip``:\n",
    "\n",
    "```python\n",
    "pip install recommendx\n",
    "```\n",
    "\n",
    "The data used in this example is a small, non-random sample from the [MovieLens](https://grouplens.org/datasets/movielens/) dataset.\n",
    "\n",
    "We begin by importing the Python packages needed in this notebook."
   ]
  },
  {
   "cell_type": "code",
   "execution_count": 1,
   "metadata": {},
   "outputs": [],
   "source": [
    "import pandas as pd\n",
    "import numpy as np\n",
    "from recommendx import RWR\n",
    "from recommendx import RWT"
   ]
  },
  {
   "cell_type": "markdown",
   "metadata": {},
   "source": [
    "## Data\n",
    "The data used in this demonstration are provided alongside this notebook. This should enable anyone to replicate the steps in this notebook. We will use 2 csv files:\n",
    "1. **ratingsdat.csv** - user-item ratings data\n",
    "2. **itemdat.csv** - observable item attributes\n",
    "\n",
    "We can load the ratings data and view its layout."
   ]
  },
  {
   "cell_type": "code",
   "execution_count": 2,
   "metadata": {},
   "outputs": [
    {
     "data": {
      "text/html": [
       "<div>\n",
       "<style scoped>\n",
       "    .dataframe tbody tr th:only-of-type {\n",
       "        vertical-align: middle;\n",
       "    }\n",
       "\n",
       "    .dataframe tbody tr th {\n",
       "        vertical-align: top;\n",
       "    }\n",
       "\n",
       "    .dataframe thead th {\n",
       "        text-align: right;\n",
       "    }\n",
       "</style>\n",
       "<table border=\"1\" class=\"dataframe\">\n",
       "  <thead>\n",
       "    <tr style=\"text-align: right;\">\n",
       "      <th></th>\n",
       "      <th>userId</th>\n",
       "      <th>title</th>\n",
       "      <th>rating</th>\n",
       "      <th>AMPM</th>\n",
       "    </tr>\n",
       "  </thead>\n",
       "  <tbody>\n",
       "    <tr>\n",
       "      <th>0</th>\n",
       "      <td>A</td>\n",
       "      <td>Ace Ventura</td>\n",
       "      <td>4.0</td>\n",
       "      <td>PM</td>\n",
       "    </tr>\n",
       "    <tr>\n",
       "      <th>1</th>\n",
       "      <td>A</td>\n",
       "      <td>Clueless</td>\n",
       "      <td>4.0</td>\n",
       "      <td>AM</td>\n",
       "    </tr>\n",
       "    <tr>\n",
       "      <th>2</th>\n",
       "      <td>A</td>\n",
       "      <td>Die Hard</td>\n",
       "      <td>4.0</td>\n",
       "      <td>PM</td>\n",
       "    </tr>\n",
       "    <tr>\n",
       "      <th>3</th>\n",
       "      <td>A</td>\n",
       "      <td>Iron Man</td>\n",
       "      <td>3.5</td>\n",
       "      <td>PM</td>\n",
       "    </tr>\n",
       "    <tr>\n",
       "      <th>4</th>\n",
       "      <td>A</td>\n",
       "      <td>The Shining</td>\n",
       "      <td>4.0</td>\n",
       "      <td>PM</td>\n",
       "    </tr>\n",
       "    <tr>\n",
       "      <th>5</th>\n",
       "      <td>B</td>\n",
       "      <td>Ace Ventura</td>\n",
       "      <td>3.5</td>\n",
       "      <td>PM</td>\n",
       "    </tr>\n",
       "    <tr>\n",
       "      <th>6</th>\n",
       "      <td>B</td>\n",
       "      <td>Die Hard</td>\n",
       "      <td>4.0</td>\n",
       "      <td>AM</td>\n",
       "    </tr>\n",
       "    <tr>\n",
       "      <th>7</th>\n",
       "      <td>B</td>\n",
       "      <td>Iron Man</td>\n",
       "      <td>4.5</td>\n",
       "      <td>AM</td>\n",
       "    </tr>\n",
       "    <tr>\n",
       "      <th>8</th>\n",
       "      <td>B</td>\n",
       "      <td>The Shining</td>\n",
       "      <td>3.5</td>\n",
       "      <td>AM</td>\n",
       "    </tr>\n",
       "    <tr>\n",
       "      <th>9</th>\n",
       "      <td>B</td>\n",
       "      <td>Get Out</td>\n",
       "      <td>4.5</td>\n",
       "      <td>PM</td>\n",
       "    </tr>\n",
       "  </tbody>\n",
       "</table>\n",
       "</div>"
      ],
      "text/plain": [
       "  userId        title  rating AMPM\n",
       "0      A  Ace Ventura     4.0   PM\n",
       "1      A     Clueless     4.0   AM\n",
       "2      A     Die Hard     4.0   PM\n",
       "3      A     Iron Man     3.5   PM\n",
       "4      A  The Shining     4.0   PM\n",
       "5      B  Ace Ventura     3.5   PM\n",
       "6      B     Die Hard     4.0   AM\n",
       "7      B     Iron Man     4.5   AM\n",
       "8      B  The Shining     3.5   AM\n",
       "9      B      Get Out     4.5   PM"
      ]
     },
     "execution_count": 2,
     "metadata": {},
     "output_type": "execute_result"
    }
   ],
   "source": [
    "ratings = pd.read_csv('ratingsdat.csv')\n",
    "ratings.head(10)"
   ]
  },
  {
   "cell_type": "code",
   "execution_count": 3,
   "metadata": {},
   "outputs": [
    {
     "name": "stdout",
     "output_type": "stream",
     "text": [
      "(47, 4)\n",
      "['A' 'B' 'C' 'D' 'E' 'F' 'G' 'H' 'I' 'J']\n",
      "['Ace Ventura' 'Clueless' 'Die Hard' 'Iron Man' 'The Shining' 'Get Out']\n"
     ]
    }
   ],
   "source": [
    "print(ratings.shape)\n",
    "print(ratings['userId'].unique())\n",
    "print(ratings['title'].unique())"
   ]
  },
  {
   "cell_type": "markdown",
   "metadata": {},
   "source": [
    "This simple dataset contains 47 ratings. There are 10 different unique users in the data ('A',...,'J') and 6 different items ('Ace Ventura',...,'Get Out'). Though not shown, there are two unique time periods ('AM','PM').\n",
    "\n",
    "Next, we load the observable attribute data."
   ]
  },
  {
   "cell_type": "code",
   "execution_count": 4,
   "metadata": {},
   "outputs": [
    {
     "data": {
      "text/html": [
       "<div>\n",
       "<style scoped>\n",
       "    .dataframe tbody tr th:only-of-type {\n",
       "        vertical-align: middle;\n",
       "    }\n",
       "\n",
       "    .dataframe tbody tr th {\n",
       "        vertical-align: top;\n",
       "    }\n",
       "\n",
       "    .dataframe thead th {\n",
       "        text-align: right;\n",
       "    }\n",
       "</style>\n",
       "<table border=\"1\" class=\"dataframe\">\n",
       "  <thead>\n",
       "    <tr style=\"text-align: right;\">\n",
       "      <th></th>\n",
       "      <th>title</th>\n",
       "      <th>comedy</th>\n",
       "      <th>horror</th>\n",
       "    </tr>\n",
       "  </thead>\n",
       "  <tbody>\n",
       "    <tr>\n",
       "      <th>0</th>\n",
       "      <td>Ace Ventura</td>\n",
       "      <td>1</td>\n",
       "      <td>0</td>\n",
       "    </tr>\n",
       "    <tr>\n",
       "      <th>1</th>\n",
       "      <td>Clueless</td>\n",
       "      <td>1</td>\n",
       "      <td>0</td>\n",
       "    </tr>\n",
       "    <tr>\n",
       "      <th>2</th>\n",
       "      <td>Die Hard</td>\n",
       "      <td>0</td>\n",
       "      <td>0</td>\n",
       "    </tr>\n",
       "    <tr>\n",
       "      <th>3</th>\n",
       "      <td>Get Out</td>\n",
       "      <td>0</td>\n",
       "      <td>1</td>\n",
       "    </tr>\n",
       "    <tr>\n",
       "      <th>4</th>\n",
       "      <td>Iron Man</td>\n",
       "      <td>0</td>\n",
       "      <td>0</td>\n",
       "    </tr>\n",
       "    <tr>\n",
       "      <th>5</th>\n",
       "      <td>The Shining</td>\n",
       "      <td>0</td>\n",
       "      <td>1</td>\n",
       "    </tr>\n",
       "  </tbody>\n",
       "</table>\n",
       "</div>"
      ],
      "text/plain": [
       "         title  comedy  horror\n",
       "0  Ace Ventura       1       0\n",
       "1     Clueless       1       0\n",
       "2     Die Hard       0       0\n",
       "3      Get Out       0       1\n",
       "4     Iron Man       0       0\n",
       "5  The Shining       0       1"
      ]
     },
     "execution_count": 4,
     "metadata": {},
     "output_type": "execute_result"
    }
   ],
   "source": [
    "itemdat = pd.read_csv('itemdat.csv')\n",
    "itemdat"
   ]
  },
  {
   "cell_type": "markdown",
   "metadata": {},
   "source": [
    "In this dataframe, note that each item is a row. There are two observed item attributes, which are simply genre indicators in this case. \n",
    "\n",
    "``recommendx`` requires that data inputs be NumPy arrays so our final step will be to convert the dataframes to arrays."
   ]
  },
  {
   "cell_type": "code",
   "execution_count": 5,
   "metadata": {},
   "outputs": [],
   "source": [
    "dat = np.array(ratings)\n",
    "att = np.array(itemdat)"
   ]
  },
  {
   "cell_type": "markdown",
   "metadata": {},
   "source": [
    "## Recommendation with Regressors (``RWR``)\n",
    "\n",
    "We will create an instance of the ``RWR`` class and then fit it using the example data from above. Because we have so few ratings in this simple dataset, I will specify that our recommendation model uses only 3 latent attributes."
   ]
  },
  {
   "cell_type": "code",
   "execution_count": 6,
   "metadata": {},
   "outputs": [],
   "source": [
    "rwr = RWR(n_factors = 3)\n",
    "rwr.fit(dat,att)"
   ]
  },
  {
   "cell_type": "markdown",
   "metadata": {},
   "source": [
    "Our estimated model parameters are attributes of our instance. We can access them as follows: ``rwr.intercept_``, ``rwr.bu``,``rwr.B``,``rwr.alpha_``,and ``rwr.Z``. Please see the documentation for more details.\n",
    "\n",
    "We can view the estimated user-specific coefficents for the item observable attributes as follows:"
   ]
  },
  {
   "cell_type": "code",
   "execution_count": 7,
   "metadata": {},
   "outputs": [
    {
     "data": {
      "text/plain": [
       "array([[ 0.09850014,  0.05449469],\n",
       "       [-0.05973401,  0.0669737 ],\n",
       "       [-0.28011176,  0.37422123],\n",
       "       [ 0.19432835, -0.02196002],\n",
       "       [-0.40419099, -0.06377156],\n",
       "       [-0.3017002 ,  0.26244235],\n",
       "       [-0.39822518,  0.10037626],\n",
       "       [-0.16719338,  0.15965804],\n",
       "       [-0.27780916, -0.08273066],\n",
       "       [-0.21058007,  0.38930298]])"
      ]
     },
     "execution_count": 7,
     "metadata": {},
     "output_type": "execute_result"
    }
   ],
   "source": [
    "rwr.B"
   ]
  },
  {
   "cell_type": "markdown",
   "metadata": {},
   "source": [
    "We may also want to view the model's mean squared prediction error."
   ]
  },
  {
   "cell_type": "code",
   "execution_count": 8,
   "metadata": {},
   "outputs": [
    {
     "data": {
      "text/plain": [
       "array([0.52608556])"
      ]
     },
     "execution_count": 8,
     "metadata": {},
     "output_type": "execute_result"
    }
   ],
   "source": [
    "rwr.accuracy(dat,att)"
   ]
  },
  {
   "cell_type": "markdown",
   "metadata": {},
   "source": [
    "Finally, we can use the ``predict()`` method to predict the ratings for any user-item pair. As an example, user 'A' did not rate the movie 'Get Out'. We can predict this rating as follows:"
   ]
  },
  {
   "cell_type": "code",
   "execution_count": 9,
   "metadata": {},
   "outputs": [
    {
     "data": {
      "text/plain": [
       "array([3.86479523])"
      ]
     },
     "execution_count": 9,
     "metadata": {},
     "output_type": "execute_result"
    }
   ],
   "source": [
    "rwr.predict('A','Get Out')"
   ]
  },
  {
   "cell_type": "markdown",
   "metadata": {},
   "source": [
    "Finally, note that ``RWR`` will perform traditional SVD if no item attributes are provided. This is accomplished by omitting the array of observed attributes when we use ``fit()``."
   ]
  },
  {
   "cell_type": "code",
   "execution_count": 10,
   "metadata": {},
   "outputs": [
    {
     "data": {
      "text/plain": [
       "array([0.69681959])"
      ]
     },
     "execution_count": 10,
     "metadata": {},
     "output_type": "execute_result"
    }
   ],
   "source": [
    "rwr2 = RWR(n_factors = 3)\n",
    "rwr2.fit(dat)\n",
    "rwr2.accuracy(dat)"
   ]
  },
  {
   "cell_type": "markdown",
   "metadata": {},
   "source": [
    "The mean squared prediction error is lower (in this example) when observed item attributes are included, although I make no claim that this is universally true.\n",
    "\n",
    "## Recommendation with Time (``RWT``)\n",
    "\n",
    "We can use the same data, but we will allow user taste parameters to vary according to time ('AM' or 'PM'). Again, I will specify 3 latent item attributes. The syntax is virtually identical to ``RWR``."
   ]
  },
  {
   "cell_type": "code",
   "execution_count": 11,
   "metadata": {},
   "outputs": [
    {
     "data": {
      "text/plain": [
       "array([0.38625324])"
      ]
     },
     "execution_count": 11,
     "metadata": {},
     "output_type": "execute_result"
    }
   ],
   "source": [
    "rwt = RWT(n_factors = 3)\n",
    "rwt.fit(dat,att)\n",
    "rwt.accuracy(dat,att)"
   ]
  },
  {
   "cell_type": "markdown",
   "metadata": {},
   "source": [
    "In terms of our model attributes, we can most easily see the difference by viewing the shape of our two user preference attributes."
   ]
  },
  {
   "cell_type": "code",
   "execution_count": 12,
   "metadata": {},
   "outputs": [
    {
     "name": "stdout",
     "output_type": "stream",
     "text": [
      "(2, 10, 2)\n",
      "(2, 10, 3)\n"
     ]
    }
   ],
   "source": [
    "print(rwt.B.shape)\n",
    "print(rwt.alpha_.shape)"
   ]
  },
  {
   "cell_type": "markdown",
   "metadata": {},
   "source": [
    "These are now 3-dimensional arrays. To view these coefficients, it is helpful to know how ``RWT`` has assigned the values 'AM' and 'PM'. Fortunately, we have a time \"dictionary\" that can help."
   ]
  },
  {
   "cell_type": "code",
   "execution_count": 13,
   "metadata": {},
   "outputs": [
    {
     "data": {
      "text/plain": [
       "array([['AM', 0],\n",
       "       ['PM', 1]], dtype=object)"
      ]
     },
     "execution_count": 13,
     "metadata": {},
     "output_type": "execute_result"
    }
   ],
   "source": [
    "rwt.timedict"
   ]
  },
  {
   "cell_type": "markdown",
   "metadata": {},
   "source": [
    "If we would like to view the $\\beta_u$ coefficients for 'AM', we can do so as follows:"
   ]
  },
  {
   "cell_type": "code",
   "execution_count": 14,
   "metadata": {},
   "outputs": [
    {
     "data": {
      "text/plain": [
       "array([[ 0.07555079, -0.00514984],\n",
       "       [ 0.0048872 , -0.14826482],\n",
       "       [-0.43450748, -0.01598492],\n",
       "       [ 0.00579544, -0.0158765 ],\n",
       "       [-0.65411126,  0.00249884],\n",
       "       [-0.53609518,  0.44413453],\n",
       "       [-0.76642724,  0.21717155],\n",
       "       [-0.31177538,  0.27481313],\n",
       "       [-0.13719698, -0.13555624],\n",
       "       [-0.42594556,  0.34121468]])"
      ]
     },
     "execution_count": 14,
     "metadata": {},
     "output_type": "execute_result"
    }
   ],
   "source": [
    "rwt.B[0,:,:]"
   ]
  },
  {
   "cell_type": "markdown",
   "metadata": {},
   "source": [
    "Finally, prediction now requires a specified time period."
   ]
  },
  {
   "cell_type": "code",
   "execution_count": 15,
   "metadata": {},
   "outputs": [
    {
     "data": {
      "text/plain": [
       "array([3.83959932])"
      ]
     },
     "execution_count": 15,
     "metadata": {},
     "output_type": "execute_result"
    }
   ],
   "source": [
    "rwt.predict('A','Get Out','AM')"
   ]
  },
  {
   "cell_type": "code",
   "execution_count": 16,
   "metadata": {},
   "outputs": [
    {
     "data": {
      "text/plain": [
       "array([3.92030306])"
      ]
     },
     "execution_count": 16,
     "metadata": {},
     "output_type": "execute_result"
    }
   ],
   "source": [
    "rwt.predict('A','Get Out','PM')"
   ]
  },
  {
   "cell_type": "code",
   "execution_count": null,
   "metadata": {},
   "outputs": [],
   "source": []
  }
 ],
 "metadata": {
  "kernelspec": {
   "display_name": "Python 3",
   "language": "python",
   "name": "python3"
  },
  "language_info": {
   "codemirror_mode": {
    "name": "ipython",
    "version": 3
   },
   "file_extension": ".py",
   "mimetype": "text/x-python",
   "name": "python",
   "nbconvert_exporter": "python",
   "pygments_lexer": "ipython3",
   "version": "3.7.3"
  }
 },
 "nbformat": 4,
 "nbformat_minor": 2
}
